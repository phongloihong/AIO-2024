{
 "cells": [
  {
   "cell_type": "markdown",
   "metadata": {},
   "source": [
    "### Gradient Descent"
   ]
  },
  {
   "cell_type": "code",
   "execution_count": 2,
   "metadata": {},
   "outputs": [
    {
     "name": "stdout",
     "output_type": "stream",
     "text": [
      "[-4.09831018e-01 -4.42147839e-07]\n"
     ]
    }
   ],
   "source": [
    "import numpy as np\n",
    "\n",
    "epoch = 30\n",
    "w = np.array([-5, -2])\n",
    "params = np.array([0.2, 4])\n",
    "alpha = 0.4\n",
    "\n",
    "for i in range(epoch):\n",
    "    dw = params * w\n",
    "    w = w - alpha * dw\n",
    "\n",
    "print(w)\n",
    "    "
   ]
  },
  {
   "cell_type": "markdown",
   "metadata": {},
   "source": [
    "## Gradient Descent with momentum"
   ]
  },
  {
   "cell_type": "code",
   "execution_count": 4,
   "metadata": {},
   "outputs": [
    {
     "name": "stdout",
     "output_type": "stream",
     "text": [
      "[-6.10072592e-02  6.45162933e-05]\n"
     ]
    }
   ],
   "source": [
    "w = np.array([-5, -2])\n",
    "v = np.array([0, 0])\n",
    "params = np.array([0.2, 4])\n",
    "alpha = 0.6\n",
    "beta = 0.5\n",
    "\n",
    "epoch = 30\n",
    "for i in range(epoch):\n",
    "    dw = params * w\n",
    "    v = beta * v + (1 - beta) * dw\n",
    "    w = w - alpha * v\n",
    "    \n",
    "print(w)\n"
   ]
  },
  {
   "cell_type": "markdown",
   "metadata": {},
   "source": [
    "### RMSProp"
   ]
  },
  {
   "cell_type": "code",
   "execution_count": 18,
   "metadata": {},
   "outputs": [
    {
     "name": "stdout",
     "output_type": "stream",
     "text": [
      "[-3.00577081e-03 -3.00506084e-17]\n"
     ]
    }
   ],
   "source": [
    "\n",
    "w = np.array([-5, -2])\n",
    "s = np.array([0., 0.])\n",
    "params = np.array([0.2, 4])\n",
    "alpha = 0.3\n",
    "gamma = 0.9\n",
    "epsilon = 10**-6\n",
    "epoch = 30\n",
    "\n",
    "for i in range(epoch):\n",
    "    d = params * w\n",
    "    s = gamma * s + (1 - gamma) * d ** 2\n",
    "    w = w - alpha * d / (np.sqrt(s + epsilon))\n",
    "\n",
    "print(w)"
   ]
  },
  {
   "cell_type": "markdown",
   "metadata": {},
   "source": [
    "### Adam"
   ]
  },
  {
   "cell_type": "markdown",
   "metadata": {},
   "source": [
    "Adam: Dựa vào thuật toán Adam các bạn thực hiện tìm điểm minimum của function (1) với các\n",
    "tham số sau khởi tạo w1 = −5, w2 = −2, initial v1 = 0, v2 = 0, s1 = 0, s2 = 0, α = 0.2, β1 = 0.9,\n",
    "β2 = 0.999, ε = 10−6\n",
    ":\n",
    "\n",
    "(a) Các bạn trình bày chi tiết từng bước thực hiện tìm điểm minimum theo thuật toán Adam\n",
    "với epoch = 2 (tìm w1 và w2 sau 2 epoch). Các bạn có thể dùng latex hoặc doc.\n",
    "(b) Các bạn thực hiện code dùng numpy để tìm điểm minimum theo thuật toán Adam với epoch\n",
    "\n",
    "= 30 (tìm w1 và w2 sau 30 epoch)."
   ]
  },
  {
   "cell_type": "code",
   "execution_count": 9,
   "metadata": {},
   "outputs": [
    {
     "name": "stdout",
     "output_type": "stream",
     "text": [
      "-4.600252377464395 -1.6008224611228892\n"
     ]
    }
   ],
   "source": [
    "w = np.array([-5, -2])\n",
    "v = np.array([0, 0])\n",
    "s = np.array([0, 0])\n",
    "params = np.array([0.2, 4])\n",
    "alpha = 0.2\n",
    "beta1 = 0.9\n",
    "beta2 = 0.999\n",
    "epsilon = 10**-6\n",
    "epoch = 30\n",
    "\n",
    "for epoch in range(epoch):\n",
    "    dw = params * w\n",
    "    v = beta1 * v + (1 - beta1) * dw\n",
    "    s = beta2 * s + (1 - beta2) * dw ** 2\n",
    "\n",
    "    vcoor = v/(1 - beta1 ** (epoch + 1))\n",
    "    scor = s/(1 - beta2 ** (epoch + 1))\n",
    "\n",
    "    w = w - alpha * vcoor / np.sqrt(scor) + epsilon\n",
    "\n",
    "print(w)\n",
    "\n"
   ]
  }
 ],
 "metadata": {
  "kernelspec": {
   "display_name": "Python 3",
   "language": "python",
   "name": "python3"
  },
  "language_info": {
   "codemirror_mode": {
    "name": "ipython",
    "version": 3
   },
   "file_extension": ".py",
   "mimetype": "text/x-python",
   "name": "python",
   "nbconvert_exporter": "python",
   "pygments_lexer": "ipython3",
   "version": "3.11.9"
  }
 },
 "nbformat": 4,
 "nbformat_minor": 2
}
